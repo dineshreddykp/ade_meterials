{
 "cells": [
  {
   "cell_type": "code",
   "execution_count": 0,
   "metadata": {
    "application/vnd.databricks.v1+cell": {
     "cellMetadata": {
      "byteLimit": 2048000,
      "rowLimit": 10000
     },
     "inputWidgets": {},
     "nuid": "1c600015-a764-4c89-b9e3-524615e017f4",
     "showTitle": false,
     "tableResultSettingsMap": {},
     "title": ""
    }
   },
   "outputs": [
    {
     "output_type": "stream",
     "name": "stdout",
     "output_type": "stream",
     "text": [
      "Hello World!!!\n"
     ]
    }
   ],
   "source": [
    "print('Hello World!!!')"
   ]
  },
  {
   "cell_type": "markdown",
   "metadata": {
    "application/vnd.databricks.v1+cell": {
     "cellMetadata": {},
     "inputWidgets": {},
     "nuid": "c426f96a-d181-4bc5-8fba-66f47524b56a",
     "showTitle": false,
     "tableResultSettingsMap": {},
     "title": ""
    }
   },
   "source": [
    "# Python Built-in Data Types  \n",
    "STRING  \n",
    "INTEGER, FLOAT  \n",
    "LIST, TUPLE, RANGE  \n",
    "DICT  \n",
    "SET  \n",
    "BOOLEAN  \n"
   ]
  },
  {
   "cell_type": "code",
   "execution_count": 0,
   "metadata": {
    "application/vnd.databricks.v1+cell": {
     "cellMetadata": {
      "byteLimit": 2048000,
      "rowLimit": 10000
     },
     "inputWidgets": {},
     "nuid": "efdba894-00ac-4598-bc14-2ecc93eae918",
     "showTitle": false,
     "tableResultSettingsMap": {},
     "title": ""
    }
   },
   "outputs": [
    {
     "output_type": "stream",
     "name": "stdout",
     "output_type": "stream",
     "text": [
      "Visual Path offers variuos courses in IT. Azuer DE, AWS, devops are few among them\n"
     ]
    }
   ],
   "source": [
    "message=\"Visual Path offers various courses in IT. Azuer DE, AWS, devops are few among them\"\n",
    "type(message)\n",
    "print(message)"
   ]
  },
  {
   "cell_type": "code",
   "execution_count": 0,
   "metadata": {
    "application/vnd.databricks.v1+cell": {
     "cellMetadata": {
      "byteLimit": 2048000,
      "rowLimit": 10000
     },
     "inputWidgets": {},
     "nuid": "dd668763-e198-4c0d-a603-0bb4b647912e",
     "showTitle": true,
     "tableResultSettingsMap": {},
     "title": "Multi Line String"
    }
   },
   "outputs": [
    {
     "output_type": "stream",
     "name": "stdout",
     "output_type": "stream",
     "text": [
      "Visual Path offers various courses in IT.\nAzuer DE, AWS, devops are few among them\n"
     ]
    }
   ],
   "source": [
    "message=\"Visual Path offers various courses in IT.\\nAzuer DE, AWS, devops are few among them\"\n",
    "type(message)\n",
    "print(message)"
   ]
  },
  {
   "cell_type": "code",
   "execution_count": 0,
   "metadata": {
    "application/vnd.databricks.v1+cell": {
     "cellMetadata": {
      "byteLimit": 2048000,
      "rowLimit": 10000
     },
     "inputWidgets": {},
     "nuid": "f79166b9-1a68-4663-9a79-c69fc657d833",
     "showTitle": true,
     "tableResultSettingsMap": {},
     "title": "String Concatenation"
    }
   },
   "outputs": [
    {
     "output_type": "stream",
     "name": "stdout",
     "output_type": "stream",
     "text": [
      "I am a working professional.And I want to upskill myself in Azure DE\n"
     ]
    }
   ],
   "source": [
    "str1:str=\"I am a working professional.\"\n",
    "str2:str=\"I want to upskill myself in Azure DE\"\n",
    "\n",
    "strFinal=str1+\"And \"+str2\n",
    "print(strFinal)"
   ]
  },
  {
   "cell_type": "code",
   "execution_count": 0,
   "metadata": {
    "application/vnd.databricks.v1+cell": {
     "cellMetadata": {},
     "inputWidgets": {},
     "nuid": "12951de5-2ffc-4528-9c15-e8cbb21779ab",
     "showTitle": true,
     "tableResultSettingsMap": {},
     "title": "User Input"
    }
   },
   "outputs": [],
   "source": [
    "Enter your Name: Bhanu\n",
    "Enter your Age: 30\n",
    "output: Hello Bhanu. As you entered you are 30 years old"
   ]
  },
  {
   "cell_type": "code",
   "execution_count": 0,
   "metadata": {
    "application/vnd.databricks.v1+cell": {
     "cellMetadata": {
      "byteLimit": 2048000,
      "rowLimit": 10000
     },
     "inputWidgets": {},
     "nuid": "9877b111-c2a7-457d-a02a-6512bcca4cfd",
     "showTitle": false,
     "tableResultSettingsMap": {},
     "title": ""
    }
   },
   "outputs": [
    {
     "output_type": "display_data",
     "data": {
      "text/plain": [
       "Enter your name Shakti"
      ]
     },
     "metadata": {},
     "output_type": "display_data"
    },
    {
     "output_type": "display_data",
     "data": {
      "text/plain": [
       "Enter your Age 25"
      ]
     },
     "metadata": {},
     "output_type": "display_data"
    },
    {
     "output_type": "stream",
     "name": "stdout",
     "output_type": "stream",
     "text": [
      "Shakti\n25\nHello Shakti. As you entered you are 25 years old\n"
     ]
    }
   ],
   "source": [
    "name=input(\"Enter your name\")\n",
    "age=input(\"Enter your Age\")\n",
    "print(name)\n",
    "print(age)\n",
    "\n",
    "strMessage=\"Hello \"+name+\". As you entered you are \"+age+\" years old\"\n",
    "print(strMessage)"
   ]
  },
  {
   "cell_type": "code",
   "execution_count": 0,
   "metadata": {
    "application/vnd.databricks.v1+cell": {
     "cellMetadata": {
      "byteLimit": 2048000,
      "rowLimit": 10000
     },
     "inputWidgets": {},
     "nuid": "2533e6d6-cdfb-49eb-be84-bc96bdca378c",
     "showTitle": true,
     "tableResultSettingsMap": {},
     "title": "String Formatting"
    }
   },
   "outputs": [
    {
     "output_type": "stream",
     "name": "stdout",
     "output_type": "stream",
     "text": [
      "Hello Shakti. As you entered you are 25 years old\n"
     ]
    }
   ],
   "source": [
    "strFormat=\"Hello {0}. As you entered you are {1} years old\".format(name,age)\n",
    "print(strFormat)"
   ]
  },
  {
   "cell_type": "code",
   "execution_count": 0,
   "metadata": {
    "application/vnd.databricks.v1+cell": {
     "cellMetadata": {
      "byteLimit": 2048000,
      "rowLimit": 10000
     },
     "inputWidgets": {},
     "nuid": "b7aae59f-dc47-4b89-be0e-af9772db4adc",
     "showTitle": false,
     "tableResultSettingsMap": {},
     "title": ""
    }
   },
   "outputs": [
    {
     "output_type": "stream",
     "name": "stdout",
     "output_type": "stream",
     "text": [
      "Hello Shakti. As you entered you are 25 years old\n"
     ]
    }
   ],
   "source": [
    "strFormatAltername=f\"Hello {name}. As you entered you are {age} years old\"\n",
    "print(strFormatAltername)"
   ]
  },
  {
   "cell_type": "markdown",
   "metadata": {
    "application/vnd.databricks.v1+cell": {
     "cellMetadata": {},
     "inputWidgets": {},
     "nuid": "b6dfd217-0d89-4734-bf0b-0f643311d047",
     "showTitle": false,
     "tableResultSettingsMap": {},
     "title": ""
    }
   },
   "source": [
    "# Find occurance of a substring inside a string"
   ]
  },
  {
   "cell_type": "code",
   "execution_count": 0,
   "metadata": {
    "application/vnd.databricks.v1+cell": {
     "cellMetadata": {
      "byteLimit": 2048000,
      "rowLimit": 10000
     },
     "inputWidgets": {},
     "nuid": "70f347e9-5c90-479c-b0f2-7d333b68b229",
     "showTitle": false,
     "tableResultSettingsMap": {},
     "title": ""
    }
   },
   "outputs": [
    {
     "output_type": "stream",
     "name": "stdout",
     "output_type": "stream",
     "text": [
      "67\n-1\n2\n"
     ]
    }
   ],
   "source": [
    "message=\"Databricks was developed by the same team who originally developed Spark. Databricks is Spark on cloud. It makes spark programming easy\"\n",
    "#find()\n",
    "print(message.find(\"Spark\"))\n",
    "print(message.find(\"Cluster\"))\n",
    "#count\n",
    "print(message.count(\"Spark\"))"
   ]
  },
  {
   "cell_type": "code",
   "execution_count": 0,
   "metadata": {
    "application/vnd.databricks.v1+cell": {
     "cellMetadata": {
      "byteLimit": 2048000,
      "rowLimit": 10000
     },
     "inputWidgets": {},
     "nuid": "2408504f-62dc-4d0b-973d-b5ef6382df79",
     "showTitle": true,
     "tableResultSettingsMap": {},
     "title": "Case (Upper,Lower)"
    }
   },
   "outputs": [
    {
     "output_type": "stream",
     "name": "stdout",
     "output_type": "stream",
     "text": [
      "DATABRICKS WAS DEVELOPED BY THE SAME TEAM WHO ORIGINALLY DEVELOPED SPARK. DATABRICKS IS SPARK ON CLOUD. IT MAKES SPARK PROGRAMMING EASY\ndatabricks was developed by the same team who originally developed spark. databricks is spark on cloud. it makes spark programming easy\n"
     ]
    }
   ],
   "source": [
    "message=\"Databricks was developed by the same team who originally developed Spark. Databricks is Spark on cloud. It makes spark programming easy\"\n",
    "print(message.upper())\n",
    "print(message.lower())"
   ]
  },
  {
   "cell_type": "code",
   "execution_count": 0,
   "metadata": {
    "application/vnd.databricks.v1+cell": {
     "cellMetadata": {},
     "inputWidgets": {},
     "nuid": "b06388a6-46c9-4bf7-a055-8dbf1caebc57",
     "showTitle": false,
     "tableResultSettingsMap": {},
     "title": ""
    }
   },
   "outputs": [],
   "source": []
  }
 ],
 "metadata": {
  "application/vnd.databricks.v1+notebook": {
   "computePreferences": null,
   "dashboards": [],
   "environmentMetadata": null,
   "inputWidgetPreferences": null,
   "language": "python",
   "notebookMetadata": {
    "pythonIndentUnit": 4
   },
   "notebookName": "Python Fundamentals",
   "widgets": {}
  }
 },
 "nbformat": 4,
 "nbformat_minor": 0
}