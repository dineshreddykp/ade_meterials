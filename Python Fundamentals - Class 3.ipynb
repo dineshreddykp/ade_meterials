{
 "cells": [
  {
   "cell_type": "code",
   "execution_count": 0,
   "metadata": {
    "application/vnd.databricks.v1+cell": {
     "cellMetadata": {},
     "inputWidgets": {},
     "nuid": "7c395ebd-eaee-4273-b871-8096ccd64cc3",
     "showTitle": true,
     "tableResultSettingsMap": {},
     "title": "User Defined Function"
    }
   },
   "outputs": [],
   "source": [
    "#Syntax:\n",
    "# def @FunctionName(@inputParam1,@inputPram2,---):\n",
    "#     @logic\n",
    "#     @return"
   ]
  },
  {
   "cell_type": "code",
   "execution_count": 0,
   "metadata": {
    "application/vnd.databricks.v1+cell": {
     "cellMetadata": {
      "byteLimit": 2048000,
      "rowLimit": 10000
     },
     "inputWidgets": {},
     "nuid": "152058fb-2f54-4fab-970f-d697946f1e46",
     "showTitle": false,
     "tableResultSettingsMap": {},
     "title": ""
    }
   },
   "outputs": [],
   "source": [
    "def Add2Numbers_With_out_ReturnType(num1,num2):\n",
    "    result=num1+num2"
   ]
  },
  {
   "cell_type": "code",
   "execution_count": 0,
   "metadata": {
    "application/vnd.databricks.v1+cell": {
     "cellMetadata": {
      "byteLimit": 2048000,
      "rowLimit": 10000
     },
     "inputWidgets": {},
     "nuid": "1221430c-9f44-4041-bfe8-09597bfc328c",
     "showTitle": false,
     "tableResultSettingsMap": {},
     "title": ""
    }
   },
   "outputs": [
    {
     "output_type": "stream",
     "name": "stdout",
     "output_type": "stream",
     "text": [
      "Out[10]: function"
     ]
    }
   ],
   "source": [
    "type(Add2Numbers_With_out_ReturnType)"
   ]
  },
  {
   "cell_type": "code",
   "execution_count": 0,
   "metadata": {
    "application/vnd.databricks.v1+cell": {
     "cellMetadata": {
      "byteLimit": 2048000,
      "rowLimit": 10000
     },
     "inputWidgets": {},
     "nuid": "dedbdf9b-dffe-4826-8b91-6c7951134d27",
     "showTitle": false,
     "tableResultSettingsMap": {},
     "title": ""
    }
   },
   "outputs": [
    {
     "output_type": "stream",
     "name": "stdout",
     "output_type": "stream",
     "text": [
      "None\n"
     ]
    }
   ],
   "source": [
    "result=Add2Numbers(10,20)\n",
    "print(result)"
   ]
  },
  {
   "cell_type": "code",
   "execution_count": 0,
   "metadata": {
    "application/vnd.databricks.v1+cell": {
     "cellMetadata": {
      "byteLimit": 2048000,
      "rowLimit": 10000
     },
     "inputWidgets": {},
     "nuid": "860da340-4aeb-46ab-aa16-8d4799893b9f",
     "showTitle": false,
     "tableResultSettingsMap": {},
     "title": ""
    }
   },
   "outputs": [],
   "source": [
    "def Add2Numbers_With_ReturnType(num1,num2):\n",
    "    result=num1+num2\n",
    "    return result"
   ]
  },
  {
   "cell_type": "code",
   "execution_count": 0,
   "metadata": {
    "application/vnd.databricks.v1+cell": {
     "cellMetadata": {
      "byteLimit": 2048000,
      "rowLimit": 10000
     },
     "inputWidgets": {},
     "nuid": "d57084d9-8387-4b61-bb50-4b5204207f2e",
     "showTitle": false,
     "tableResultSettingsMap": {},
     "title": ""
    }
   },
   "outputs": [
    {
     "output_type": "stream",
     "name": "stdout",
     "output_type": "stream",
     "text": [
      "<class 'function'>\n"
     ]
    }
   ],
   "source": [
    "print(type(Add2Numbers_With_ReturnType))"
   ]
  },
  {
   "cell_type": "code",
   "execution_count": 0,
   "metadata": {
    "application/vnd.databricks.v1+cell": {
     "cellMetadata": {
      "byteLimit": 2048000,
      "rowLimit": 10000
     },
     "inputWidgets": {},
     "nuid": "ccb598de-cddf-4f9d-9477-27123f9a1b6d",
     "showTitle": false,
     "tableResultSettingsMap": {},
     "title": ""
    }
   },
   "outputs": [
    {
     "output_type": "stream",
     "name": "stdout",
     "output_type": "stream",
     "text": [
      "30\n"
     ]
    }
   ],
   "source": [
    "result=Add2Numbers(10,20)\n",
    "print(result)"
   ]
  },
  {
   "cell_type": "code",
   "execution_count": 0,
   "metadata": {
    "application/vnd.databricks.v1+cell": {
     "cellMetadata": {
      "byteLimit": 2048000,
      "rowLimit": 10000
     },
     "inputWidgets": {},
     "nuid": "0ac63535-d46e-4879-826c-2ec0eda1befc",
     "showTitle": false,
     "tableResultSettingsMap": {},
     "title": ""
    }
   },
   "outputs": [],
   "source": [
    "def Add2Numbers(num1,num2):\n",
    "    result=num1+num2\n",
    "    print(result)"
   ]
  },
  {
   "cell_type": "code",
   "execution_count": 0,
   "metadata": {
    "application/vnd.databricks.v1+cell": {
     "cellMetadata": {
      "byteLimit": 2048000,
      "rowLimit": 10000
     },
     "inputWidgets": {},
     "nuid": "189d1252-3e14-440a-bc8a-ef67d2f16236",
     "showTitle": false,
     "tableResultSettingsMap": {},
     "title": ""
    }
   },
   "outputs": [
    {
     "output_type": "stream",
     "name": "stdout",
     "output_type": "stream",
     "text": [
      "30\n"
     ]
    }
   ],
   "source": [
    "Add2Numbers(10,20)"
   ]
  },
  {
   "cell_type": "code",
   "execution_count": 0,
   "metadata": {
    "application/vnd.databricks.v1+cell": {
     "cellMetadata": {
      "byteLimit": 2048000,
      "rowLimit": 10000
     },
     "inputWidgets": {},
     "nuid": "304d40ad-a206-48d0-9b33-d057196bb706",
     "showTitle": false,
     "tableResultSettingsMap": {},
     "title": ""
    }
   },
   "outputs": [],
   "source": [
    "def TotalMarks(mark1,mark2,mark3):\n",
    "    totalMark=mark1+mark2+mark3\n",
    "    return totalMark"
   ]
  },
  {
   "cell_type": "code",
   "execution_count": 0,
   "metadata": {
    "application/vnd.databricks.v1+cell": {
     "cellMetadata": {
      "byteLimit": 2048000,
      "rowLimit": 10000
     },
     "inputWidgets": {},
     "nuid": "9ab87551-ace5-40f3-a525-a1b5e5acf9d4",
     "showTitle": false,
     "tableResultSettingsMap": {},
     "title": ""
    }
   },
   "outputs": [
    {
     "output_type": "stream",
     "name": "stdout",
     "output_type": "stream",
     "text": [
      "120\n"
     ]
    }
   ],
   "source": [
    "total=TotalMarks(50,30,40)\n",
    "print(total)"
   ]
  },
  {
   "cell_type": "code",
   "execution_count": 0,
   "metadata": {
    "application/vnd.databricks.v1+cell": {
     "cellMetadata": {
      "byteLimit": 2048000,
      "rowLimit": 10000
     },
     "inputWidgets": {},
     "nuid": "bf78cf98-5aec-44b5-ba39-dc04a8bcc6a2",
     "showTitle": false,
     "tableResultSettingsMap": {},
     "title": ""
    }
   },
   "outputs": [
    {
     "output_type": "display_data",
     "data": {
      "text/plain": [
       "\u001B[0;31m---------------------------------------------------------------------------\u001B[0m\n",
       "\u001B[0;31mTypeError\u001B[0m                                 Traceback (most recent call last)\n",
       "File \u001B[0;32m<command-628236733142080>:1\u001B[0m\n",
       "\u001B[0;32m----> 1\u001B[0m total\u001B[38;5;241m=\u001B[39mTotalMarks(\u001B[38;5;241m50\u001B[39m,\u001B[38;5;241m30\u001B[39m)\n",
       "\u001B[1;32m      2\u001B[0m \u001B[38;5;28mprint\u001B[39m(total)\n",
       "\n",
       "\u001B[0;31mTypeError\u001B[0m: TotalMarks() missing 1 required positional argument: 'mark3'"
      ]
     },
     "metadata": {
      "application/vnd.databricks.v1+output": {
       "arguments": {},
       "data": "\u001B[0;31m---------------------------------------------------------------------------\u001B[0m\n\u001B[0;31mTypeError\u001B[0m                                 Traceback (most recent call last)\nFile \u001B[0;32m<command-628236733142080>:1\u001B[0m\n\u001B[0;32m----> 1\u001B[0m total\u001B[38;5;241m=\u001B[39mTotalMarks(\u001B[38;5;241m50\u001B[39m,\u001B[38;5;241m30\u001B[39m)\n\u001B[1;32m      2\u001B[0m \u001B[38;5;28mprint\u001B[39m(total)\n\n\u001B[0;31mTypeError\u001B[0m: TotalMarks() missing 1 required positional argument: 'mark3'",
       "errorSummary": "<span class='ansi-red-fg'>TypeError</span>: TotalMarks() missing 1 required positional argument: 'mark3'",
       "errorTraceType": "ansi",
       "metadata": {},
       "type": "ipynbError"
      }
     },
     "output_type": "display_data"
    }
   ],
   "source": [
    "total=TotalMarks(50,30)\n",
    "print(total)"
   ]
  },
  {
   "cell_type": "code",
   "execution_count": 0,
   "metadata": {
    "application/vnd.databricks.v1+cell": {
     "cellMetadata": {
      "byteLimit": 2048000,
      "rowLimit": 10000
     },
     "inputWidgets": {},
     "nuid": "62e8e93e-97fc-4f0d-be10-40a2a469b967",
     "showTitle": false,
     "tableResultSettingsMap": {},
     "title": ""
    }
   },
   "outputs": [
    {
     "output_type": "display_data",
     "data": {
      "text/plain": [
       "\u001B[0;31m---------------------------------------------------------------------------\u001B[0m\n",
       "\u001B[0;31mTypeError\u001B[0m                                 Traceback (most recent call last)\n",
       "File \u001B[0;32m<command-628236733142081>:1\u001B[0m\n",
       "\u001B[0;32m----> 1\u001B[0m total\u001B[38;5;241m=\u001B[39mTotalMarks(\u001B[38;5;241m50\u001B[39m,\u001B[38;5;241m30\u001B[39m,\u001B[38;5;241m60\u001B[39m,\u001B[38;5;241m56\u001B[39m)\n",
       "\u001B[1;32m      2\u001B[0m \u001B[38;5;28mprint\u001B[39m(total)\n",
       "\n",
       "\u001B[0;31mTypeError\u001B[0m: TotalMarks() takes 3 positional arguments but 4 were given"
      ]
     },
     "metadata": {
      "application/vnd.databricks.v1+output": {
       "arguments": {},
       "data": "\u001B[0;31m---------------------------------------------------------------------------\u001B[0m\n\u001B[0;31mTypeError\u001B[0m                                 Traceback (most recent call last)\nFile \u001B[0;32m<command-628236733142081>:1\u001B[0m\n\u001B[0;32m----> 1\u001B[0m total\u001B[38;5;241m=\u001B[39mTotalMarks(\u001B[38;5;241m50\u001B[39m,\u001B[38;5;241m30\u001B[39m,\u001B[38;5;241m60\u001B[39m,\u001B[38;5;241m56\u001B[39m)\n\u001B[1;32m      2\u001B[0m \u001B[38;5;28mprint\u001B[39m(total)\n\n\u001B[0;31mTypeError\u001B[0m: TotalMarks() takes 3 positional arguments but 4 were given",
       "errorSummary": "<span class='ansi-red-fg'>TypeError</span>: TotalMarks() takes 3 positional arguments but 4 were given",
       "errorTraceType": "ansi",
       "metadata": {},
       "type": "ipynbError"
      }
     },
     "output_type": "display_data"
    }
   ],
   "source": [
    "total=TotalMarks(50,30,60,56)\n",
    "print(total)"
   ]
  },
  {
   "cell_type": "code",
   "execution_count": 0,
   "metadata": {
    "application/vnd.databricks.v1+cell": {
     "cellMetadata": {
      "byteLimit": 2048000,
      "rowLimit": 10000
     },
     "inputWidgets": {},
     "nuid": "c2ff8b12-8b82-48ea-b07e-752d28a91e7d",
     "showTitle": true,
     "tableResultSettingsMap": {},
     "title": "var args"
    }
   },
   "outputs": [],
   "source": [
    "def TotalMarksVarArgs(*marks):\n",
    "    print(type(marks))\n",
    "    print(marks)\n",
    "    return sum(list(marks))"
   ]
  },
  {
   "cell_type": "code",
   "execution_count": 0,
   "metadata": {
    "application/vnd.databricks.v1+cell": {
     "cellMetadata": {
      "byteLimit": 2048000,
      "rowLimit": 10000
     },
     "inputWidgets": {},
     "nuid": "d2f161d6-f49c-4e86-aa39-98fea11251de",
     "showTitle": false,
     "tableResultSettingsMap": {},
     "title": ""
    }
   },
   "outputs": [
    {
     "output_type": "stream",
     "name": "stdout",
     "output_type": "stream",
     "text": [
      "<class 'tuple'>\n(50, 60, 40)\n150\n"
     ]
    }
   ],
   "source": [
    "print(TotalMarksVarArgs(50,60,40))"
   ]
  },
  {
   "cell_type": "code",
   "execution_count": 0,
   "metadata": {
    "application/vnd.databricks.v1+cell": {
     "cellMetadata": {
      "byteLimit": 2048000,
      "rowLimit": 10000
     },
     "inputWidgets": {},
     "nuid": "7ca1dbb7-1341-409c-9aa2-6a361a587354",
     "showTitle": false,
     "tableResultSettingsMap": {},
     "title": ""
    }
   },
   "outputs": [
    {
     "output_type": "stream",
     "name": "stdout",
     "output_type": "stream",
     "text": [
      "<class 'tuple'>\n(50, 60)\n110\n"
     ]
    }
   ],
   "source": [
    "print(TotalMarksVarArgs(50,60))"
   ]
  },
  {
   "cell_type": "code",
   "execution_count": 0,
   "metadata": {
    "application/vnd.databricks.v1+cell": {
     "cellMetadata": {
      "byteLimit": 2048000,
      "rowLimit": 10000
     },
     "inputWidgets": {},
     "nuid": "0216a1fe-5107-4257-a18a-54a7e68b2d51",
     "showTitle": false,
     "tableResultSettingsMap": {},
     "title": ""
    }
   },
   "outputs": [
    {
     "output_type": "stream",
     "name": "stdout",
     "output_type": "stream",
     "text": [
      "<class 'tuple'>\n(50, 60, 70, 45)\n225\n"
     ]
    }
   ],
   "source": [
    "print(TotalMarksVarArgs(50,60,70,45))"
   ]
  },
  {
   "cell_type": "code",
   "execution_count": 0,
   "metadata": {
    "application/vnd.databricks.v1+cell": {
     "cellMetadata": {},
     "inputWidgets": {},
     "nuid": "5cb97c82-0b51-4a5a-baad-091bc471c8a3",
     "showTitle": true,
     "tableResultSettingsMap": {},
     "title": "var kArgs"
    }
   },
   "outputs": [],
   "source": []
  },
  {
   "cell_type": "code",
   "execution_count": 0,
   "metadata": {
    "application/vnd.databricks.v1+cell": {
     "cellMetadata": {},
     "inputWidgets": {},
     "nuid": "3c81c97d-27e7-49b6-8e3b-27c7d0b79517",
     "showTitle": true,
     "tableResultSettingsMap": {},
     "title": "lambda function"
    }
   },
   "outputs": [],
   "source": []
  },
  {
   "cell_type": "code",
   "execution_count": 0,
   "metadata": {
    "application/vnd.databricks.v1+cell": {
     "cellMetadata": {},
     "inputWidgets": {},
     "nuid": "a0ad1784-f1ea-4240-a6de-a662ccfa6082",
     "showTitle": true,
     "tableResultSettingsMap": {},
     "title": "map"
    }
   },
   "outputs": [],
   "source": []
  },
  {
   "cell_type": "code",
   "execution_count": 0,
   "metadata": {
    "application/vnd.databricks.v1+cell": {
     "cellMetadata": {},
     "inputWidgets": {},
     "nuid": "2f44a6ff-d4e2-4d59-82da-7d1edacc2066",
     "showTitle": true,
     "tableResultSettingsMap": {},
     "title": "filter "
    }
   },
   "outputs": [],
   "source": []
  },
  {
   "cell_type": "code",
   "execution_count": 0,
   "metadata": {
    "application/vnd.databricks.v1+cell": {
     "cellMetadata": {},
     "inputWidgets": {},
     "nuid": "5ba7291f-ea74-4659-b0d6-332f4fbd6a43",
     "showTitle": true,
     "tableResultSettingsMap": {},
     "title": "List Comprehension"
    }
   },
   "outputs": [],
   "source": []
  }
 ],
 "metadata": {
  "application/vnd.databricks.v1+notebook": {
   "computePreferences": null,
   "dashboards": [],
   "environmentMetadata": null,
   "inputWidgetPreferences": null,
   "language": "python",
   "notebookMetadata": {
    "pythonIndentUnit": 4
   },
   "notebookName": "Python Fundamentals - Class 3",
   "widgets": {}
  }
 },
 "nbformat": 4,
 "nbformat_minor": 0
}